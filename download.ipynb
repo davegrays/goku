{
 "cells": [
  {
   "cell_type": "code",
   "execution_count": null,
   "id": "0768a13c-a8e2-44b1-ba66-7b3861f09b0f",
   "metadata": {},
   "outputs": [],
   "source": [
    "from goku.etl import miyazaki_etl, etl\n",
    "%load_ext autoreload\n",
    "%autoreload 2"
   ]
  },
  {
   "cell_type": "code",
   "execution_count": 2,
   "id": "ff794eba-484b-4385-997a-fcfa0b3c5f41",
   "metadata": {},
   "outputs": [],
   "source": [
    "!mkdir -p data/miyazaki/downsampled"
   ]
  },
  {
   "cell_type": "code",
   "execution_count": 3,
   "id": "7098b853-dbca-4831-8a4c-7576295ee1dd",
   "metadata": {},
   "outputs": [],
   "source": [
    "miyazaki_etl.get_all_images(\"data/miyazaki\")\n",
    "etl.downsample_images(\"data/miyazaki\", \"data/miyazaki/downsampled\")"
   ]
  },
  {
   "cell_type": "code",
   "execution_count": null,
   "id": "484efbef-6d8d-4e80-bc38-5a0b26640c5b",
   "metadata": {},
   "outputs": [],
   "source": []
  }
 ],
 "metadata": {
  "kernelspec": {
   "display_name": "goku",
   "language": "python",
   "name": "goku"
  },
  "language_info": {
   "codemirror_mode": {
    "name": "ipython",
    "version": 3
   },
   "file_extension": ".py",
   "mimetype": "text/x-python",
   "name": "python",
   "nbconvert_exporter": "python",
   "pygments_lexer": "ipython3",
   "version": "3.10.4"
  }
 },
 "nbformat": 4,
 "nbformat_minor": 5
}
